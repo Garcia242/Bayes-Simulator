{
 "cells": [
  {
   "cell_type": "code",
   "execution_count": 1,
   "id": "79126d35",
   "metadata": {},
   "outputs": [],
   "source": [
    "#Import need libraries \n",
    "\n",
    "import numpy as np\n",
    "import matplotlib.pyplot as plt"
   ]
  },
  {
   "cell_type": "code",
   "execution_count": 2,
   "id": "5027bed6",
   "metadata": {},
   "outputs": [],
   "source": [
    "# set constants \n",
    "\n",
    "g = 9.81  # acceleration due to gravity in m/s^2\n",
    "rho =  1.225  # density of air at seas level in kg/m^3"
   ]
  },
  {
   "cell_type": "markdown",
   "id": "0f071d1b",
   "metadata": {},
   "source": [
    "# Static Rocket Simulation\n",
    "\n",
    "We want to simulate a rocket without any moving parts - first think about the different frames of referecene\n",
    "\n",
    "A real rocket will have sensors telling it it's position, velocity, and acceleration, relative to itself, not relative to the ground - we want to work in two different coordinate framses\n",
    "\n",
    "**Inertial Frame** - frame relative to the ground - origin is at the point of launch\n",
    "\n",
    "**Body Frame** - frame relative to the rocket - origin is at the center of mass of the rocket\n",
    "\n",
    "We look at the forces acting on the rocket using the inertial frame (it is easier to see what those are this way) and then translate them to the body frame to study the evolution of the rocket \n",
    "\n",
    "#### How to do this ?\n",
    "\n",
    "We coudl try to use euler angles to describe the rotations, but this is messy and introduces gimble lock, where we can have two axis coinciding over each other thus making us loose some degrees of freedom. \n",
    "\n",
    "We will want to use quaternions instead\n",
    "\n",
    "## What are quaternions ?\n",
    "\n",
    "Quaterniosn are a mathematical tool invented by William Rowan Hamilton, it is a system qith 4 complex units and the same way that a multiplication by i is a 90º rotation, we can establish a relationship between these and 3D rotations. \n",
    "\n",
    "We can define a quaternion using a scalar and a 3D vector:\n",
    "\n",
    "$ q = (a, \\underline b) $ or using another notation $q = a + \\underline b$ or $q = a + b_1 i + b_2 j + b_3 k$, where i,j, k are 3 independent complex numbers with the property : $ij = -ji = k, jk= -kj = i , ki = -ik = j $ and $i^2 = j^2 = k^2 = -1$\n",
    "\n",
    "In this theory, vectors can be seen as pure quaternions\n",
    "\n",
    "### Basic Properties of Quaternions \n",
    "\n",
    "**Addition** - $q_1 + q_2 = (a_1 + a_2, \\underline b_1 + \\underline b_2 )$\n",
    "\n",
    "**Multiplication** - $q_1 q_2 = (a_1a_2 - \\underline b_1 \\cdot \\underline b_2 , a_1 \\underline b_2 + a_2 \\underline b_1 + \\underline b_1 \\times \\underline b_2)$\n",
    "\n",
    "Now if we want to use quaternions we must define functions for these properties."
   ]
  },
  {
   "cell_type": "code",
   "execution_count": null,
   "id": "cd4ea81c",
   "metadata": {},
   "outputs": [],
   "source": [
    "def quaternion_multiplication(q1, q2):\n",
    "    \n",
    "    w1, x1, y1, z1 = q1\n",
    "    w2, x2, y2, z2 = q2\n",
    "    return np.array([\n",
    "        w1*w2 - x1*x2 - y1*y2 - z1*z2,\n",
    "        w1*x2 + x1*w2 + y1*z2 - z1*y2,\n",
    "        w1*y2 - x1*z2 + y1*w2 + z1*x2,\n",
    "        w1*z2 + x1*y2 - y1*x2 + z1*w2\n",
    "    ])\n",
    "\n",
    "def quaternion_sum(q1, q2):\n",
    "\n",
    "    w1, x1, y1, z1 = q1\n",
    "    w2, x2, y2, z2 = q2\n",
    "    \n",
    "    return np.array([\n",
    "        w1 + w2,\n",
    "        -(x1 + x2),\n",
    "        -(y1 + y2),\n",
    "        -(z1 + z2)\n",
    "    ]) "
   ]
  },
  {
   "cell_type": "markdown",
   "id": "370e52b4",
   "metadata": {},
   "source": [
    "## Quaternions and Rotations\n",
    "\n",
    "Now we need to understand how quaternions change "
   ]
  },
  {
   "cell_type": "code",
   "execution_count": null,
   "id": "58b47fc6",
   "metadata": {},
   "outputs": [],
   "source": []
  },
  {
   "cell_type": "code",
   "execution_count": null,
   "id": "e8f3518e",
   "metadata": {},
   "outputs": [],
   "source": []
  },
  {
   "cell_type": "markdown",
   "id": "977bf4a8",
   "metadata": {},
   "source": [
    "# Sources \n",
    "\n",
    "https://math.unm.edu/~vageli/courses/Ma375/literature/rrr.pdf "
   ]
  }
 ],
 "metadata": {
  "kernelspec": {
   "display_name": "summer2024",
   "language": "python",
   "name": "python3"
  },
  "language_info": {
   "codemirror_mode": {
    "name": "ipython",
    "version": 3
   },
   "file_extension": ".py",
   "mimetype": "text/x-python",
   "name": "python",
   "nbconvert_exporter": "python",
   "pygments_lexer": "ipython3",
   "version": "3.12.3"
  }
 },
 "nbformat": 4,
 "nbformat_minor": 5
}
